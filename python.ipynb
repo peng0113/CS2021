import pandas as pd
print("pandas version: %s" % pd.__version__)
